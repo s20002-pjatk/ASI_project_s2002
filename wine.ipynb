{
 "cells": [
  {
   "cell_type": "code",
   "execution_count": 1,
   "id": "913f7d5e",
   "metadata": {},
   "outputs": [],
   "source": [
    "import os\n",
    "import warnings\n",
    "import sys\n",
    "import matplotlib as plt\n",
    "\n",
    "import pandas as pd\n",
    "import numpy as np\n",
    "from sklearn.metrics import mean_squared_error, mean_absolute_error, r2_score\n",
    "from sklearn.model_selection import train_test_split\n",
    "from sklearn.linear_model import ElasticNet\n",
    "from urllib.parse import urlparse\n",
    "import mlflow\n",
    "import mlflow.sklearn\n",
    "import seaborn as sns\n",
    "import logging\n"
   ]
  },
  {
   "cell_type": "code",
   "execution_count": 2,
   "id": "f9b2ab2c",
   "metadata": {},
   "outputs": [],
   "source": [
    "logging.basicConfig(level=logging.WARN)\n",
    "logger = logging.getLogger(__name__)\n"
   ]
  },
  {
   "cell_type": "code",
   "execution_count": 3,
   "id": "71248387",
   "metadata": {},
   "outputs": [],
   "source": [
    "def eval_metrics(actual, pred):\n",
    "    rmse = np.sqrt(mean_squared_error(actual, pred))\n",
    "    mae = mean_absolute_error(actual, pred)\n",
    "    r2 = r2_score(actual, pred)\n",
    "    return rmse, mae, r2"
   ]
  },
  {
   "cell_type": "code",
   "execution_count": 4,
   "id": "516df190",
   "metadata": {},
   "outputs": [],
   "source": [
    "if __name__ == \"__main__\":\n",
    "    warnings.filterwarnings(\"ignore\")\n",
    "    np.random.seed(40)\n",
    "\n",
    "    # Read the wine-quality csv file from the URL\n",
    "    csv_url = (\n",
    "        \"wine_data.csv\"\n",
    "    )\n",
    "    try:\n",
    "        data = pd.read_csv(csv_url, sep=\",\")\n",
    "    except Exception as e:\n",
    "        logger.exception(\n",
    "            \"Unable to download training & test CSV, check your internet connection. Error: %s\", e\n",
    "        )"
   ]
  },
  {
   "cell_type": "code",
   "execution_count": 5,
   "id": "34134c8b",
   "metadata": {},
   "outputs": [
    {
     "data": {
      "text/plain": [
       "<AxesSubplot:>"
      ]
     },
     "execution_count": 5,
     "metadata": {},
     "output_type": "execute_result"
    },
    {
     "data": {
      "image/png": "[encoded data removed]",
      "text/plain": [
       "<Figure size 432x288 with 1 Axes>"
      ]
     },
     "metadata": {
      "needs_background": "light"
     },
     "output_type": "display_data"
    }
   ],
   "source": [
    "sns.heatmap(data.isnull(),yticklabels=False,cbar=False,cmap='viridis')"
   ]
  },
  {
   "cell_type": "code",
   "execution_count": 24,
   "id": "8894d22e",
   "metadata": {},
   "outputs": [
    {
     "name": "stdout",
     "output_type": "stream",
     "text": [
      "<class 'pandas.core.frame.DataFrame'>\n",
      "RangeIndex: 120916 entries, 0 to 120915\n",
      "Data columns (total 62 columns):\n",
      " #   Column         Non-Null Count   Dtype  \n",
      "---  ------         --------------   -----  \n",
      " 0   points         120916 non-null  float64\n",
      " 1   price          120916 non-null  float64\n",
      " 2   acid           120916 non-null  int64  \n",
      " 3   angular        120916 non-null  int64  \n",
      " 4   austere        120916 non-null  int64  \n",
      " 5   barnyard       120916 non-null  int64  \n",
      " 6   bright         120916 non-null  int64  \n",
      " 7   butter         120916 non-null  int64  \n",
      " 8   cassis         120916 non-null  int64  \n",
      " 9   charcoal       120916 non-null  int64  \n",
      " 10  cigar          120916 non-null  int64  \n",
      " 11  complex        120916 non-null  int64  \n",
      " 12  cream          120916 non-null  int64  \n",
      " 13  crisp          120916 non-null  int64  \n",
      " 14  dense          120916 non-null  int64  \n",
      " 15  earth          120916 non-null  int64  \n",
      " 16  elegant        120916 non-null  int64  \n",
      " 17  flabby         120916 non-null  int64  \n",
      " 18  flamboyant     120916 non-null  int64  \n",
      " 19  fleshy         120916 non-null  int64  \n",
      " 20  food friendly  120916 non-null  int64  \n",
      " 21  grip           120916 non-null  int64  \n",
      " 22  hint of        120916 non-null  int64  \n",
      " 23  intellectual   120916 non-null  int64  \n",
      " 24  jam            120916 non-null  int64  \n",
      " 25  juicy          120916 non-null  int64  \n",
      " 26  laser          120916 non-null  int64  \n",
      " 27  lees           120916 non-null  int64  \n",
      " 28  mineral        120916 non-null  int64  \n",
      " 29  oak            120916 non-null  int64  \n",
      " 30  opulent        120916 non-null  int64  \n",
      " 31  refined        120916 non-null  int64  \n",
      " 32  silk           120916 non-null  int64  \n",
      " 33  steel          120916 non-null  int64  \n",
      " 34  structure      120916 non-null  int64  \n",
      " 35  tannin         120916 non-null  int64  \n",
      " 36  tight          120916 non-null  int64  \n",
      " 37  toast          120916 non-null  int64  \n",
      " 38  unctuous       120916 non-null  int64  \n",
      " 39  unoaked        120916 non-null  int64  \n",
      " 40  velvet         120916 non-null  int64  \n",
      " 41  Argentina      120916 non-null  int64  \n",
      " 42  Australia      120916 non-null  int64  \n",
      " 43  Austria        120916 non-null  int64  \n",
      " 44  Bulgaria       120916 non-null  int64  \n",
      " 45  Canada         120916 non-null  int64  \n",
      " 46  Chile          120916 non-null  int64  \n",
      " 47  France         120916 non-null  int64  \n",
      " 48  Germany        120916 non-null  int64  \n",
      " 49  Greece         120916 non-null  int64  \n",
      " 50  Hungary        120916 non-null  int64  \n",
      " 51  Israel         120916 non-null  int64  \n",
      " 52  Italy          120916 non-null  int64  \n",
      " 53  New Zealand    120916 non-null  int64  \n",
      " 54  Portugal       120916 non-null  int64  \n",
      " 55  Romania        120916 non-null  int64  \n",
      " 56  South Africa   120916 non-null  int64  \n",
      " 57  Spain          120916 non-null  int64  \n",
      " 58  Turkey         120916 non-null  int64  \n",
      " 59  US             120916 non-null  int64  \n",
      " 60  Uruguay        120916 non-null  int64  \n",
      " 61  Other          120916 non-null  int64  \n",
      "dtypes: float64(2), int64(60)\n",
      "memory usage: 57.2 MB\n"
     ]
    }
   ],
   "source": [
    "data.info()"
   ]
  },
  {
   "cell_type": "code",
   "execution_count": null,
   "id": "b55465cd",
   "metadata": {},
   "outputs": [],
   "source": [
    "#data = dataset.sample(frac = 0.9, random_state=42)\n",
    "#data_unseen =datasetdrop(data.index)\n",
    "#data.reset_index(drop=True, inplace=True)\n",
    "#data_unseen.reset_index(drop=True, inplace=True)\n",
    "\n",
    "#from pycaret.classification import * # from pycaret.regression import *\n",
    "#exp1 = (data=data,target='points', session_id=1)\n",
    "#best = compare_models()\n",
    "#svm = create_model('svm')\n",
    "#svm #parametry modelu\n",
    "#et =create_model('et')\n",
    "#et_tuned =tune_model(et)\n",
    "#svm_tuned =tune_model(svm)\n",
    "#plot_model(et_tuned)\n",
    "#evaluate_model(et_tuned)\n",
    "#plot_model(et_tuned,plot='features')\n",
    "# fonal = finalize_model(et_tuned)\n",
    "#predict = predict_model(final,data=data_unseen)\n",
    "#predict\n",
    "#save_model(final,'nazwa')"
   ]
  },
  {
   "cell_type": "code",
   "execution_count": 23,
   "id": "271c25ae",
   "metadata": {},
   "outputs": [],
   "source": [
    "corrmat = data.corr()\n",
    "top_corr_features = corrmat.index\n",
    "#plt.figure.Figure(figsize=(10,10))\n",
    "#plot heat map\n",
    "g=sns.heatmap(data[top_corr_features].corr(),annot=False,cmap=\"RdYlGn\") \n",
    "#plot_corr_matrix=g.get_figure()\n",
    "#plot_corr_matrix.savefig(\"corr_matrix.png\")\n"
   ]
  },
  {
   "cell_type": "code",
   "execution_count": 6,
   "id": "0f5ecb27",
   "metadata": {},
   "outputs": [
    {
     "name": "stdout",
     "output_type": "stream",
     "text": [
      "120916\n",
      "77385\n",
      "77385\n"
     ]
    }
   ],
   "source": [
    "# #used only once to import the data \n",
    "# import glob\n",
    "\n",
    "# extension = 'csv'\n",
    "# all_filenames = [i for i in glob.glob('*.{}'.format(extension))]\n",
    "# #combine all files in the list\n",
    "# combined_csv = pd.concat([pd.read_csv(f) for f in all_filenames ])\n",
    "# #export to csv\n",
    "# combined_csv.to_csv( \"wine_data.csv\", index=False, encoding='utf-8-sig')\n",
    "\n",
    "print(len(data))\n",
    "\n",
    "\n",
    "rest,validate = train_test_split(data,test_size=0.2)\n",
    "train, test = train_test_split(rest, test_size = 0.2)\n",
    "\n",
    "# The predicted column is \"quality\" which is a scalar from [3, 9]\n"
   ]
  },
  {
   "cell_type": "code",
   "execution_count": null,
   "id": "87816580",
   "metadata": {},
   "outputs": [],
   "source": [
    "train_x = train.drop([\"points\"], axis=1)\n",
    "test_x = test.drop([\"points\"], axis=1)\n",
    "train_y = train[[\"points\"]]\n",
    "test_y = test[[\"points\"]]\n",
    "\n",
    "print(len(train_x))\n",
    "unique_entries = train_x.duplicated(keep='first')\n",
    "\n",
    "print(len(unique_entries))\n",
    "\n",
    "\n",
    "# print(sys.argv[0])\n",
    "# print(sys.argv[1])\n",
    "# print(sys.argv[2])\n",
    "alpha = 0.4\n",
    "l1_ratio = 0.7"
   ]
  },
  {
   "cell_type": "code",
   "execution_count": 7,
   "id": "ac1c04de",
   "metadata": {},
   "outputs": [
    {
     "name": "stdout",
     "output_type": "stream",
     "text": [
      "Elasticnet model (alpha=0.400000, l1_ratio=0.700000):\n",
      "  RMSE: 2.769968289941445\n",
      "  MAE: 2.1599006456086878\n",
      "  R2: 0.15428040259015907\n"
     ]
    }
   ],
   "source": [
    "with mlflow.start_run():\n",
    "        lr = ElasticNet(alpha=alpha, l1_ratio=l1_ratio, random_state=42)\n",
    "        lr.fit(train_x, train_y)\n",
    "\n",
    "        predicted_qualities = lr.predict(test_x)\n",
    "\n",
    "        (rmse, mae, r2) = eval_metrics(test_y, predicted_qualities)\n",
    "\n",
    "        print(\"Elasticnet model (alpha=%f, l1_ratio=%f):\" % (alpha, l1_ratio))\n",
    "        print(\"  RMSE: %s\" % rmse)\n",
    "        print(\"  MAE: %s\" % mae)\n",
    "        print(\"  R2: %s\" % r2)\n",
    "\n",
    "        mlflow.log_param(\"alpha\", alpha)\n",
    "        mlflow.log_param(\"l1_ratio\", l1_ratio)\n",
    "        mlflow.log_metric(\"rmse\", rmse)\n",
    "        mlflow.log_metric(\"r2\", r2)\n",
    "        mlflow.log_metric(\"mae\", mae)\n",
    "\n",
    "        tracking_url_type_store = urlparse(mlflow.get_tracking_uri()).scheme\n",
    "\n",
    "        # Model registry does not work with file store\n",
    "        if tracking_url_type_store != \"file\":\n",
    "\n",
    "            # Register the model\n",
    "            # There are other ways to use the Model Registry, which depends on the use case,\n",
    "            # please refer to the doc for more information:\n",
    "            # https://mlflow.org/docs/latest/model-registry.html#api-workflow\n",
    "            mlflow.sklearn.log_model(lr, \"model\", registered_model_name=\"ElasticnetWineModel\")\n",
    "        else:\n",
    "            mlflow.sklearn.log_model(lr, \"model\")"
   ]
  },
  {
   "cell_type": "code",
   "execution_count": null,
   "id": "ebf61285",
   "metadata": {},
   "outputs": [],
   "source": []
  }
 ],
 "metadata": {
  "kernelspec": {
   "display_name": "Python 3 (ipykernel)",
   "language": "python",
   "name": "python3"
  },
  "language_info": {
   "codemirror_mode": {
    "name": "ipython",
    "version": 3
   },
   "file_extension": ".py",
   "mimetype": "text/x-python",
   "name": "python",
   "nbconvert_exporter": "python",
   "pygments_lexer": "ipython3",
   "version": "3.8.13"
  }
 },
 "nbformat": 4,
 "nbformat_minor": 5
}
